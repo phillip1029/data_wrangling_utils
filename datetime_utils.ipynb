{
 "cells": [
  {
   "cell_type": "markdown",
   "id": "alive-surveillance",
   "metadata": {},
   "source": [
    "#### convert the month beteen number and string"
   ]
  },
  {
   "cell_type": "code",
   "execution_count": 1,
   "id": "rocky-court",
   "metadata": {},
   "outputs": [],
   "source": [
    "from datetime import datetime as dt\n",
    "\n",
    "def month_str2num(month_name): \n",
    "        return dt.strptime(month_name[0:3], \"%b\").month \n",
    "    \n",
    "def month_num2str(month_number): \n",
    "    if isinstance(month_number, int):\n",
    "        month_num_str = str(month_number)\n",
    "        return dt.strptime(month_num_str, \"%m\").strftime(\"%b\") \n",
    "    else:\n",
    "        return dt.strptime(month_number, \"%m\").strftime(\"%b\") "
   ]
  },
  {
   "cell_type": "code",
   "execution_count": null,
   "id": "focused-cliff",
   "metadata": {},
   "outputs": [],
   "source": []
  }
 ],
 "metadata": {
  "kernelspec": {
   "display_name": "Python 3",
   "language": "python",
   "name": "python3"
  },
  "language_info": {
   "codemirror_mode": {
    "name": "ipython",
    "version": 3
   },
   "file_extension": ".py",
   "mimetype": "text/x-python",
   "name": "python",
   "nbconvert_exporter": "python",
   "pygments_lexer": "ipython3",
   "version": "3.8.8"
  }
 },
 "nbformat": 4,
 "nbformat_minor": 5
}
